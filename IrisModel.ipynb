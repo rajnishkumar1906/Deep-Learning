{
  "nbformat": 4,
  "nbformat_minor": 0,
  "metadata": {
    "colab": {
      "provenance": [],
      "gpuType": "T4",
      "authorship_tag": "ABX9TyPfxdftMUR09+GuJBaE8jqi",
      "include_colab_link": true
    },
    "kernelspec": {
      "name": "python3",
      "display_name": "Python 3"
    },
    "language_info": {
      "name": "python"
    },
    "accelerator": "GPU"
  },
  "cells": [
    {
      "cell_type": "markdown",
      "metadata": {
        "id": "view-in-github",
        "colab_type": "text"
      },
      "source": [
        "<a href=\"https://colab.research.google.com/github/rajnishkumar1906/Deep-Learning/blob/main/IrisModel.ipynb\" target=\"_parent\"><img src=\"https://colab.research.google.com/assets/colab-badge.svg\" alt=\"Open In Colab\"/></a>"
      ]
    },
    {
      "cell_type": "code",
      "source": [
        "import torch\n",
        "import torch.nn as nn\n",
        "import torch.nn.functional as F"
      ],
      "metadata": {
        "id": "i_O1QkWis7tu"
      },
      "execution_count": null,
      "outputs": []
    },
    {
      "cell_type": "code",
      "source": [
        "from sklearn.datasets import load_iris\n",
        "from sklearn.model_selection import train_test_split\n",
        "from sklearn.preprocessing import StandardScaler\n",
        "from torch.utils.data import TensorDataset, DataLoader"
      ],
      "metadata": {
        "id": "hgo6GhS4HSG4"
      },
      "execution_count": null,
      "outputs": []
    },
    {
      "cell_type": "markdown",
      "source": [
        "Load and prepare the4 data"
      ],
      "metadata": {
        "id": "uQfWMKB2Ha2A"
      }
    },
    {
      "cell_type": "code",
      "source": [
        "iris = load_iris()\n",
        "X = iris.data\n",
        "y = iris.target\n",
        "\n",
        "X_train, X_test, y_train, y_test = train_test_split(X, y, test_size=0.2, random_state=42)\n",
        "\n",
        "print(X_train.shape)\n",
        "print(X_test.shape)\n",
        "print(y_train.shape)\n",
        "print(y_test.shape)\n",
        "\n",
        "scaler = StandardScaler()\n",
        "X_train = scaler.fit_transform(X_train)\n",
        "X_test = scaler.transform(X_test)\n",
        "\n",
        "X_train = torch.tensor(X_train, dtype=torch.float32)\n",
        "X_test  = torch.tensor(X_test, dtype=torch.float32)\n",
        "y_train = torch.tensor(y_train, dtype=torch.long)\n",
        "y_test  = torch.tensor(y_test, dtype=torch.long)\n",
        "\n",
        "train_ds = TensorDataset(X_train, y_train)\n",
        "train_loader = DataLoader(train_ds, batch_size=16, shuffle=True)"
      ],
      "metadata": {
        "colab": {
          "base_uri": "https://localhost:8080/"
        },
        "id": "XcFZ8hJdIX14",
        "outputId": "d96f2a3c-a470-4504-e8d3-dc035786b8f8"
      },
      "execution_count": null,
      "outputs": [
        {
          "output_type": "stream",
          "name": "stdout",
          "text": [
            "(120, 4)\n",
            "(30, 4)\n",
            "(120,)\n",
            "(30,)\n"
          ]
        }
      ]
    },
    {
      "cell_type": "markdown",
      "source": [
        "Define the *model*"
      ],
      "metadata": {
        "id": "zW_TD-E6HQDA"
      }
    },
    {
      "cell_type": "code",
      "source": [
        "class IrisModel(nn.Module):\n",
        "    def __init__(self):\n",
        "        super(IrisModel, self).__init__()\n",
        "        self.fc1 = nn.Linear(4, 8)\n",
        "        self.fc2 = nn.Linear(8, 6)\n",
        "        self.out = nn.Linear(6, 3)\n",
        "\n",
        "    def forward(self, x):\n",
        "        x = F.relu(self.fc1(x))\n",
        "        x = F.relu(self.fc2(x))\n",
        "        x = self.out(x)  # No softmax here\n",
        "        return x\n"
      ],
      "metadata": {
        "id": "r1w1N6EUHaMd"
      },
      "execution_count": null,
      "outputs": []
    },
    {
      "cell_type": "markdown",
      "source": [
        " Initialize Model, Loss, Optimizer"
      ],
      "metadata": {
        "id": "9pueoBN5IIkv"
      }
    },
    {
      "cell_type": "code",
      "source": [
        "model = IrisModel()\n",
        "criterion = nn.CrossEntropyLoss()\n",
        "optimizer = torch.optim.Adam(model.parameters(), lr=0.01)"
      ],
      "metadata": {
        "id": "sRVzl3CrH1lx"
      },
      "execution_count": null,
      "outputs": []
    },
    {
      "cell_type": "markdown",
      "source": [
        "Training loop"
      ],
      "metadata": {
        "id": "qFXT0SmzINc2"
      }
    },
    {
      "cell_type": "code",
      "source": [
        "epochs = 50\n",
        "\n",
        "for epoch in range(epochs):\n",
        "    for xb, yb in train_loader:\n",
        "        pred = model(xb)\n",
        "        loss = criterion(pred, yb)\n",
        "\n",
        "        optimizer.zero_grad()\n",
        "        loss.backward()\n",
        "        optimizer.step()\n",
        "\n",
        "    # if (epoch + 1) % 10 == 0:\n",
        "    print(f\"Epoch {epoch+1}, Loss: {loss.item():.4f}\")\n"
      ],
      "metadata": {
        "colab": {
          "base_uri": "https://localhost:8080/"
        },
        "id": "914CAM_-H3gt",
        "outputId": "ab174d9d-dcdd-48cb-99ec-7f061e5da737"
      },
      "execution_count": null,
      "outputs": [
        {
          "output_type": "stream",
          "name": "stdout",
          "text": [
            "Epoch 1, Loss: 1.0158\n",
            "Epoch 2, Loss: 0.7651\n",
            "Epoch 3, Loss: 0.3722\n",
            "Epoch 4, Loss: 0.4437\n",
            "Epoch 5, Loss: 0.3300\n",
            "Epoch 6, Loss: 0.2359\n",
            "Epoch 7, Loss: 0.2870\n",
            "Epoch 8, Loss: 0.0986\n",
            "Epoch 9, Loss: 0.0504\n",
            "Epoch 10, Loss: 0.0954\n",
            "Epoch 11, Loss: 0.1293\n",
            "Epoch 12, Loss: 0.1117\n",
            "Epoch 13, Loss: 0.0202\n",
            "Epoch 14, Loss: 0.1250\n",
            "Epoch 15, Loss: 0.0712\n",
            "Epoch 16, Loss: 0.0315\n",
            "Epoch 17, Loss: 0.0686\n",
            "Epoch 18, Loss: 0.0308\n",
            "Epoch 19, Loss: 0.0089\n",
            "Epoch 20, Loss: 0.0033\n",
            "Epoch 21, Loss: 0.0018\n",
            "Epoch 22, Loss: 0.0016\n",
            "Epoch 23, Loss: 0.0037\n",
            "Epoch 24, Loss: 0.0799\n",
            "Epoch 25, Loss: 0.0105\n",
            "Epoch 26, Loss: 0.0788\n",
            "Epoch 27, Loss: 0.1475\n",
            "Epoch 28, Loss: 0.0029\n",
            "Epoch 29, Loss: 0.1791\n",
            "Epoch 30, Loss: 0.0007\n",
            "Epoch 31, Loss: 0.4130\n",
            "Epoch 32, Loss: 0.0400\n",
            "Epoch 33, Loss: 0.0006\n",
            "Epoch 34, Loss: 0.0145\n",
            "Epoch 35, Loss: 0.0034\n",
            "Epoch 36, Loss: 0.1784\n",
            "Epoch 37, Loss: 0.0388\n",
            "Epoch 38, Loss: 0.0494\n",
            "Epoch 39, Loss: 0.0009\n",
            "Epoch 40, Loss: 0.0020\n",
            "Epoch 41, Loss: 0.0143\n",
            "Epoch 42, Loss: 0.3740\n",
            "Epoch 43, Loss: 0.0879\n",
            "Epoch 44, Loss: 0.0020\n",
            "Epoch 45, Loss: 0.0011\n",
            "Epoch 46, Loss: 0.0013\n",
            "Epoch 47, Loss: 0.0393\n",
            "Epoch 48, Loss: 0.0112\n",
            "Epoch 49, Loss: 0.0323\n",
            "Epoch 50, Loss: 0.0013\n"
          ]
        }
      ]
    },
    {
      "cell_type": "markdown",
      "source": [
        "Evaluation"
      ],
      "metadata": {
        "id": "TnLTh5DoIhc6"
      }
    },
    {
      "cell_type": "code",
      "source": [
        "with torch.no_grad():\n",
        "    preds = model(X_test)\n",
        "    predicted = torch.argmax(preds, dim=1)\n",
        "    accuracy = (predicted == y_test).float().mean()\n",
        "    print(f\"Test Accuracy: {accuracy:.4f}\")\n"
      ],
      "metadata": {
        "colab": {
          "base_uri": "https://localhost:8080/"
        },
        "id": "A740Y9GFIQc0",
        "outputId": "7fbf24c2-96dd-4c1d-947b-ca658b334d7b"
      },
      "execution_count": null,
      "outputs": [
        {
          "output_type": "stream",
          "name": "stdout",
          "text": [
            "Test Accuracy: 1.0000\n"
          ]
        }
      ]
    }
  ]
}