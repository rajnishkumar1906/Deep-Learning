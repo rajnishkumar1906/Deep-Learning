{
  "nbformat": 4,
  "nbformat_minor": 0,
  "metadata": {
    "colab": {
      "provenance": [],
      "authorship_tag": "ABX9TyPpMwZpCf1ZLHFmAM6H1Csu",
      "include_colab_link": true
    },
    "kernelspec": {
      "name": "python3",
      "display_name": "Python 3"
    },
    "language_info": {
      "name": "python"
    }
  },
  "cells": [
    {
      "cell_type": "markdown",
      "metadata": {
        "id": "view-in-github",
        "colab_type": "text"
      },
      "source": [
        "<a href=\"https://colab.research.google.com/github/rajnishkumar1906/Deep-Learning/blob/main/NNmodule.ipynb\" target=\"_parent\"><img src=\"https://colab.research.google.com/assets/colab-badge.svg\" alt=\"Open In Colab\"/></a>"
      ]
    },
    {
      "cell_type": "code",
      "execution_count": null,
      "metadata": {
        "colab": {
          "base_uri": "https://localhost:8080/"
        },
        "id": "sQTyKeUbjN9O",
        "outputId": "b31ded96-080c-4503-bae0-3035652b866f"
      },
      "outputs": [
        {
          "output_type": "stream",
          "name": "stdout",
          "text": [
            "Collecting torchinfo\n",
            "  Downloading torchinfo-1.8.0-py3-none-any.whl.metadata (21 kB)\n",
            "Downloading torchinfo-1.8.0-py3-none-any.whl (23 kB)\n",
            "Installing collected packages: torchinfo\n",
            "Successfully installed torchinfo-1.8.0\n"
          ]
        }
      ],
      "source": [
        "!pip install torchinfo"
      ]
    },
    {
      "cell_type": "markdown",
      "source": [
        "# **TRAINING PIPELINE WITH THE HELP OF NN MODULE**"
      ],
      "metadata": {
        "id": "c68Qz2Vejd3A"
      }
    },
    {
      "cell_type": "markdown",
      "source": [
        "Single neuron - neural network"
      ],
      "metadata": {
        "id": "m3lk4NFLm56O"
      }
    },
    {
      "cell_type": "code",
      "source": [
        "from torch import nn\n",
        "import torch"
      ],
      "metadata": {
        "id": "gKioD4yYjYVc"
      },
      "execution_count": null,
      "outputs": []
    },
    {
      "cell_type": "code",
      "source": [
        "class Model(nn.Module):\n",
        "  def __init__(self,features):\n",
        "    super().__init__()\n",
        "    self.linear = nn.Linear(features,1)\n",
        "    self.sigmoid = nn.Sigmoid()\n",
        "\n",
        "  def forward(self,x):\n",
        "    out = self.linear(x)\n",
        "    out = self.sigmoid(out)\n",
        "    return out"
      ],
      "metadata": {
        "id": "uSeCOmQdjo7w"
      },
      "execution_count": null,
      "outputs": []
    },
    {
      "cell_type": "code",
      "source": [
        "# Create dataset\n",
        "features = torch.rand(10,5)\n",
        "\n",
        "# Assigning dataset to model\n",
        "model = Model(features.shape[1])\n",
        "\n",
        "# Applying forward pass\n",
        "model(features)        # Instead of model.forward(features) we use model(features)"
      ],
      "metadata": {
        "colab": {
          "base_uri": "https://localhost:8080/"
        },
        "id": "Iu_-wHQxkbU2",
        "outputId": "332e9a76-fc4d-4260-d72b-af41cb9332f8"
      },
      "execution_count": null,
      "outputs": [
        {
          "output_type": "execute_result",
          "data": {
            "text/plain": [
              "tensor([[0.6667],\n",
              "        [0.6132],\n",
              "        [0.6674],\n",
              "        [0.6972],\n",
              "        [0.6748],\n",
              "        [0.6988],\n",
              "        [0.6900],\n",
              "        [0.6808],\n",
              "        [0.7027],\n",
              "        [0.7145]], grad_fn=<SigmoidBackward0>)"
            ]
          },
          "metadata": {},
          "execution_count": 4
        }
      ]
    },
    {
      "cell_type": "code",
      "source": [
        "# Get the model weight\n",
        "model.linear.weight"
      ],
      "metadata": {
        "colab": {
          "base_uri": "https://localhost:8080/"
        },
        "id": "_JXUCpURkaTJ",
        "outputId": "1bb1a0bf-8417-44f6-e1f0-a2cbac98b231"
      },
      "execution_count": null,
      "outputs": [
        {
          "output_type": "execute_result",
          "data": {
            "text/plain": [
              "Parameter containing:\n",
              "tensor([[-0.1328,  0.4077,  0.0211,  0.4082,  0.0188]], requires_grad=True)"
            ]
          },
          "metadata": {},
          "execution_count": 5
        }
      ]
    },
    {
      "cell_type": "code",
      "source": [
        "# Get the midel bias\n",
        "model.linear.bias"
      ],
      "metadata": {
        "colab": {
          "base_uri": "https://localhost:8080/"
        },
        "id": "tkvI51PPmcYl",
        "outputId": "bf37e331-f35a-4864-ebeb-a15b6e84d218"
      },
      "execution_count": null,
      "outputs": [
        {
          "output_type": "execute_result",
          "data": {
            "text/plain": [
              "Parameter containing:\n",
              "tensor([0.3245], requires_grad=True)"
            ]
          },
          "metadata": {},
          "execution_count": 6
        }
      ]
    },
    {
      "cell_type": "code",
      "source": [
        "# Get the summary of the model and dataset\n",
        "from torchinfo import summary\n",
        "summary(model,input_size=(10,5))"
      ],
      "metadata": {
        "colab": {
          "base_uri": "https://localhost:8080/"
        },
        "id": "N7xyTinpmgfx",
        "outputId": "c9ed3367-dd1b-40f9-ac80-158a76ca4fce"
      },
      "execution_count": null,
      "outputs": [
        {
          "output_type": "execute_result",
          "data": {
            "text/plain": [
              "==========================================================================================\n",
              "Layer (type:depth-idx)                   Output Shape              Param #\n",
              "==========================================================================================\n",
              "Model                                    [10, 1]                   --\n",
              "├─Linear: 1-1                            [10, 1]                   6\n",
              "├─Sigmoid: 1-2                           [10, 1]                   --\n",
              "==========================================================================================\n",
              "Total params: 6\n",
              "Trainable params: 6\n",
              "Non-trainable params: 0\n",
              "Total mult-adds (Units.MEGABYTES): 0.00\n",
              "==========================================================================================\n",
              "Input size (MB): 0.00\n",
              "Forward/backward pass size (MB): 0.00\n",
              "Params size (MB): 0.00\n",
              "Estimated Total Size (MB): 0.00\n",
              "=========================================================================================="
            ]
          },
          "metadata": {},
          "execution_count": 8
        }
      ]
    },
    {
      "cell_type": "markdown",
      "source": [
        "Multi-Layered Neural Network"
      ],
      "metadata": {
        "id": "Jb69lAn9nvr3"
      }
    },
    {
      "cell_type": "code",
      "source": [
        "class Multi_Layered_Model(nn.Module):\n",
        "  def __init__(self,features):\n",
        "    super().__init__()\n",
        "    self.linear1 = nn.Linear(features,3)\n",
        "    self.relu = nn.ReLU()\n",
        "    self.linear2 = nn.Linear(3,1)\n",
        "    self.sigmoid = nn.Sigmoid()\n",
        "\n",
        "  def forward(self, x):  # use 'x' to match the convention\n",
        "      out = self.linear1(x)\n",
        "      out = self.relu(out)\n",
        "      out = self.linear2(out)\n",
        "      out = self.sigmoid(out)\n",
        "      return out"
      ],
      "metadata": {
        "id": "n0pxeLkImxzc"
      },
      "execution_count": null,
      "outputs": []
    },
    {
      "cell_type": "code",
      "source": [
        "# Create dataset\n",
        "features = torch.rand(20,10)\n",
        "\n",
        "# Model initializing\n",
        "Model = Multi_Layered_Model(features.shape[1])\n",
        "\n",
        "# Applying forward pass\n",
        "Model(features)"
      ],
      "metadata": {
        "colab": {
          "base_uri": "https://localhost:8080/"
        },
        "id": "5MZY-T43oRuV",
        "outputId": "17cc8974-131a-4473-9edb-f189f2b1b43b"
      },
      "execution_count": null,
      "outputs": [
        {
          "output_type": "execute_result",
          "data": {
            "text/plain": [
              "tensor([[0.4692],\n",
              "        [0.4814],\n",
              "        [0.4692],\n",
              "        [0.4692],\n",
              "        [0.4581],\n",
              "        [0.4788],\n",
              "        [0.4790],\n",
              "        [0.4708],\n",
              "        [0.4692],\n",
              "        [0.4692],\n",
              "        [0.4692],\n",
              "        [0.4692],\n",
              "        [0.4620],\n",
              "        [0.4645],\n",
              "        [0.4692],\n",
              "        [0.4692],\n",
              "        [0.4692],\n",
              "        [0.4869],\n",
              "        [0.4756],\n",
              "        [0.4692]], grad_fn=<SigmoidBackward0>)"
            ]
          },
          "metadata": {},
          "execution_count": 30
        }
      ]
    },
    {
      "cell_type": "code",
      "source": [
        "Model.linear1.weight"
      ],
      "metadata": {
        "colab": {
          "base_uri": "https://localhost:8080/"
        },
        "id": "9FRW0rHHoeS7",
        "outputId": "066d94a9-9e44-49b7-9565-28fa181a4f1c"
      },
      "execution_count": null,
      "outputs": [
        {
          "output_type": "execute_result",
          "data": {
            "text/plain": [
              "Parameter containing:\n",
              "tensor([[-0.2953, -0.1420, -0.1350, -0.1852,  0.1651,  0.1965, -0.1320,  0.1357,\n",
              "         -0.0852,  0.1852],\n",
              "        [-0.2088, -0.2412, -0.0886,  0.3145,  0.1467,  0.1295, -0.1921,  0.0349,\n",
              "         -0.0279, -0.0064],\n",
              "        [-0.0863, -0.1059, -0.1296, -0.0902,  0.0557,  0.1833, -0.2747,  0.2638,\n",
              "          0.1265, -0.0871]], requires_grad=True)"
            ]
          },
          "metadata": {},
          "execution_count": 31
        }
      ]
    },
    {
      "cell_type": "code",
      "source": [
        "Model.linear2.weight"
      ],
      "metadata": {
        "colab": {
          "base_uri": "https://localhost:8080/"
        },
        "id": "-XW474_XpobM",
        "outputId": "e5b809e3-cb1a-4ea5-e07d-451abcc89944"
      },
      "execution_count": null,
      "outputs": [
        {
          "output_type": "execute_result",
          "data": {
            "text/plain": [
              "Parameter containing:\n",
              "tensor([[ 0.4490,  0.3167, -0.4951]], requires_grad=True)"
            ]
          },
          "metadata": {},
          "execution_count": 32
        }
      ]
    },
    {
      "cell_type": "code",
      "source": [
        "Model.linear1.bias"
      ],
      "metadata": {
        "colab": {
          "base_uri": "https://localhost:8080/"
        },
        "id": "GLxBR_3MpqWL",
        "outputId": "62305549-034e-45d0-e092-5e0eea9b16dc"
      },
      "execution_count": null,
      "outputs": [
        {
          "output_type": "execute_result",
          "data": {
            "text/plain": [
              "Parameter containing:\n",
              "tensor([ 0.1510, -0.0873, -0.0125], requires_grad=True)"
            ]
          },
          "metadata": {},
          "execution_count": 33
        }
      ]
    },
    {
      "cell_type": "code",
      "source": [
        "Model.linear2.bias"
      ],
      "metadata": {
        "colab": {
          "base_uri": "https://localhost:8080/"
        },
        "id": "mwQQ9nIfpySP",
        "outputId": "e576f74c-a7d5-46d0-9b53-b25c47557dd1"
      },
      "execution_count": null,
      "outputs": [
        {
          "output_type": "execute_result",
          "data": {
            "text/plain": [
              "Parameter containing:\n",
              "tensor([-0.1232], requires_grad=True)"
            ]
          },
          "metadata": {},
          "execution_count": 34
        }
      ]
    },
    {
      "cell_type": "code",
      "source": [
        "summary(Model,input_size=(20,10))"
      ],
      "metadata": {
        "colab": {
          "base_uri": "https://localhost:8080/"
        },
        "id": "v3sIUkqfp4aD",
        "outputId": "c8b6ab82-ac5d-4a55-b349-fc5f74151ae7"
      },
      "execution_count": null,
      "outputs": [
        {
          "output_type": "execute_result",
          "data": {
            "text/plain": [
              "==========================================================================================\n",
              "Layer (type:depth-idx)                   Output Shape              Param #\n",
              "==========================================================================================\n",
              "Multi_Layered_Model                      [20, 1]                   --\n",
              "├─Linear: 1-1                            [20, 3]                   33\n",
              "├─ReLU: 1-2                              [20, 3]                   --\n",
              "├─Linear: 1-3                            [20, 1]                   4\n",
              "├─Sigmoid: 1-4                           [20, 1]                   --\n",
              "==========================================================================================\n",
              "Total params: 37\n",
              "Trainable params: 37\n",
              "Non-trainable params: 0\n",
              "Total mult-adds (Units.MEGABYTES): 0.00\n",
              "==========================================================================================\n",
              "Input size (MB): 0.00\n",
              "Forward/backward pass size (MB): 0.00\n",
              "Params size (MB): 0.00\n",
              "Estimated Total Size (MB): 0.00\n",
              "=========================================================================================="
            ]
          },
          "metadata": {},
          "execution_count": 35
        }
      ]
    },
    {
      "cell_type": "markdown",
      "source": [
        "Using sequential containers for layers"
      ],
      "metadata": {
        "id": "T_ZZnCfRqRzG"
      }
    },
    {
      "cell_type": "code",
      "source": [
        "class Sequaltial_Model(nn.Module):\n",
        "  def __init__(self,features):\n",
        "    super().__init__()\n",
        "    self.network = nn.Sequential(\n",
        "        nn.Linear(features,3),\n",
        "        nn.ReLU(),\n",
        "        nn.Linear(3,1),\n",
        "        nn.Sigmoid()\n",
        "    )\n",
        "\n",
        "  def forward(self, x):\n",
        "      out = self.network(x)\n",
        "      return out"
      ],
      "metadata": {
        "id": "MqX16pktp9CT"
      },
      "execution_count": null,
      "outputs": []
    },
    {
      "cell_type": "code",
      "source": [
        "model = Sequaltial_Model(features.shape[1])\n",
        "model(features)"
      ],
      "metadata": {
        "colab": {
          "base_uri": "https://localhost:8080/"
        },
        "id": "tVxEPyKnqjrE",
        "outputId": "2eef2084-361a-465e-f3e8-6ceb66cc07f3"
      },
      "execution_count": null,
      "outputs": [
        {
          "output_type": "execute_result",
          "data": {
            "text/plain": [
              "tensor([[0.6136],\n",
              "        [0.6134],\n",
              "        [0.6169],\n",
              "        [0.6136],\n",
              "        [0.6134],\n",
              "        [0.6233],\n",
              "        [0.6256],\n",
              "        [0.6134],\n",
              "        [0.6134],\n",
              "        [0.6137],\n",
              "        [0.6134],\n",
              "        [0.6152],\n",
              "        [0.6222],\n",
              "        [0.6210],\n",
              "        [0.6134],\n",
              "        [0.6157],\n",
              "        [0.6138],\n",
              "        [0.6174],\n",
              "        [0.6158],\n",
              "        [0.6140]], grad_fn=<SigmoidBackward0>)"
            ]
          },
          "metadata": {},
          "execution_count": 38
        }
      ]
    },
    {
      "cell_type": "markdown",
      "source": [
        "# AUTOGRAD"
      ],
      "metadata": {
        "id": "lCvtXWsa2z_g"
      }
    },
    {
      "cell_type": "code",
      "source": [
        "import torch"
      ],
      "metadata": {
        "id": "eD9oah3Xq-Gn"
      },
      "execution_count": null,
      "outputs": []
    },
    {
      "cell_type": "code",
      "source": [
        "x = torch.tensor(4.0,requires_grad=True)\n",
        "x"
      ],
      "metadata": {
        "colab": {
          "base_uri": "https://localhost:8080/"
        },
        "id": "US7goMqk231O",
        "outputId": "b0e816a3-d59e-4b92-f3a4-049bd457f1f8"
      },
      "execution_count": null,
      "outputs": [
        {
          "output_type": "execute_result",
          "data": {
            "text/plain": [
              "tensor(4., requires_grad=True)"
            ]
          },
          "metadata": {},
          "execution_count": 86
        }
      ]
    },
    {
      "cell_type": "code",
      "source": [
        "y = x**3\n",
        "y"
      ],
      "metadata": {
        "colab": {
          "base_uri": "https://localhost:8080/"
        },
        "id": "J-Xn3jw63CGR",
        "outputId": "5540e604-a59e-4df7-f0dd-dbbada760164"
      },
      "execution_count": null,
      "outputs": [
        {
          "output_type": "execute_result",
          "data": {
            "text/plain": [
              "tensor(64., grad_fn=<PowBackward0>)"
            ]
          },
          "metadata": {},
          "execution_count": 87
        }
      ]
    },
    {
      "cell_type": "code",
      "source": [
        "# To get the derivative\n",
        "y.backward()"
      ],
      "metadata": {
        "id": "aQ_1GI4v3EPI"
      },
      "execution_count": null,
      "outputs": []
    },
    {
      "cell_type": "code",
      "source": [
        "x.grad    #finally got the derivate of y w.r.t x by in back flow with the help of autograd"
      ],
      "metadata": {
        "colab": {
          "base_uri": "https://localhost:8080/"
        },
        "id": "iOeNFviG3OFh",
        "outputId": "79aeeee9-2691-4d90-bd03-935eb92a2386"
      },
      "execution_count": null,
      "outputs": [
        {
          "output_type": "execute_result",
          "data": {
            "text/plain": [
              "tensor(48.)"
            ]
          },
          "metadata": {},
          "execution_count": 89
        }
      ]
    },
    {
      "cell_type": "markdown",
      "source": [
        "Dealing with derivative of complex functions"
      ],
      "metadata": {
        "id": "usMtd1dI3zjy"
      }
    },
    {
      "cell_type": "code",
      "source": [
        "x = torch.tensor(3.1432,requires_grad=True)\n",
        "x"
      ],
      "metadata": {
        "colab": {
          "base_uri": "https://localhost:8080/"
        },
        "id": "cWXYfuWm4Hlb",
        "outputId": "9011607a-3414-45e0-b4dc-bba61ce8826c"
      },
      "execution_count": null,
      "outputs": [
        {
          "output_type": "execute_result",
          "data": {
            "text/plain": [
              "tensor(3.1432, requires_grad=True)"
            ]
          },
          "metadata": {},
          "execution_count": 90
        }
      ]
    },
    {
      "cell_type": "code",
      "source": [
        "y = x**3 + torch.sin(x)"
      ],
      "metadata": {
        "id": "jP6bvSPv3TBn"
      },
      "execution_count": null,
      "outputs": []
    },
    {
      "cell_type": "code",
      "source": [
        "y"
      ],
      "metadata": {
        "colab": {
          "base_uri": "https://localhost:8080/"
        },
        "id": "2OGRlRFB4PAx",
        "outputId": "b8eff487-a9d0-4c45-c5bf-68aa2f05ecf5"
      },
      "execution_count": null,
      "outputs": [
        {
          "output_type": "execute_result",
          "data": {
            "text/plain": [
              "tensor(31.0523, grad_fn=<AddBackward0>)"
            ]
          },
          "metadata": {},
          "execution_count": 92
        }
      ]
    },
    {
      "cell_type": "code",
      "source": [
        "y.backward()\n",
        "\n",
        "x.grad"
      ],
      "metadata": {
        "colab": {
          "base_uri": "https://localhost:8080/"
        },
        "id": "lIBGIS1j4PeD",
        "outputId": "276d91d3-bc62-4be8-95d1-b1f7c018c206"
      },
      "execution_count": null,
      "outputs": [
        {
          "output_type": "execute_result",
          "data": {
            "text/plain": [
              "tensor(28.6391)"
            ]
          },
          "metadata": {},
          "execution_count": 93
        }
      ]
    },
    {
      "cell_type": "code",
      "source": [],
      "metadata": {
        "id": "LM2Yt_e54VuF"
      },
      "execution_count": null,
      "outputs": []
    }
  ]
}